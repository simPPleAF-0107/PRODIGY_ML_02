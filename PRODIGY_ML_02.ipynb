{
 "cells": [
  {
   "cell_type": "code",
   "execution_count": null,
   "id": "5ec58fe6-a558-4e03-9ac0-1930b063b985",
   "metadata": {},
   "outputs": [],
   "source": [
    "import pandas as pd\n",
    "import numpy as np\n",
    "import matplotlib.pyplot as plt\n",
    "import seaborn as sns\n",
    "from sklearn.cluster import KMeans\n",
    "\n",
    "file_path = \"Mall_Customers.csv\"\n",
    "df = pd.read_csv(file_path)\n",
    "\n",
    "print(\"Data Preview:\")\n",
    "print(df.head())\n",
    "\n",
    "print(\"\\nMissing Values:\")\n",
    "print(df.isnull().sum())\n",
    "\n",
    "X = df.iloc[:, [3, 4]].values\n",
    "\n",
    "wcss = []  # Within-Cluster Sum of Squares\n",
    "for k in range(1, 11):  # Checking k from 1 to 10\n",
    "    kmeans = KMeans(n_clusters=k, init=\"k-means++\", random_state=42)\n",
    "    kmeans.fit(X)\n",
    "    wcss.append(kmeans.inertia_)\n",
    "\n",
    "plt.figure(figsize=(8, 5))\n",
    "plt.plot(range(1, 11), wcss, marker=\"o\", linestyle=\"--\", color=\"blue\")\n",
    "plt.xlabel(\"Number of Clusters (k)\")\n",
    "plt.ylabel(\"WCSS\")\n",
    "plt.title(\"Elbow Method for Optimal k\")\n",
    "plt.show()\n",
    "\n",
    "kmeans = KMeans(n_clusters=5, init=\"k-means++\", random_state=42)\n",
    "clusters = kmeans.fit_predict(X) \n",
    "\n",
    "df[\"Cluster\"] = clusters\n",
    "\n",
    "plt.figure(figsize=(10, 6))\n",
    "sns.scatterplot(x=X[:, 0], y=X[:, 1], hue=clusters, palette=\"viridis\", s=100)\n",
    "plt.scatter(kmeans.cluster_centers_[:, 0], kmeans.cluster_centers_[:, 1], \n",
    "            s=300, c=\"red\", label=\"Centroids\", marker=\"X\")\n",
    "plt.xlabel(\"Annual Income (k$)\")\n",
    "plt.ylabel(\"Spending Score (1-100)\")\n",
    "plt.title(\"Customer Segmentation using K-Means\")\n",
    "plt.legend()\n",
    "plt.show()\n",
    "\n",
    "df.to_csv(\"Clustered_Customers.csv\", index=False)\n",
    "print(\"Clustered data saved as 'Clustered_Customers.csv'\")\n"
   ]
  }
 ],
 "metadata": {
  "kernelspec": {
   "display_name": "Python 3 (ipykernel)",
   "language": "python",
   "name": "python3"
  },
  "language_info": {
   "codemirror_mode": {
    "name": "ipython",
    "version": 3
   },
   "file_extension": ".py",
   "mimetype": "text/x-python",
   "name": "python",
   "nbconvert_exporter": "python",
   "pygments_lexer": "ipython3",
   "version": "3.12.7"
  }
 },
 "nbformat": 4,
 "nbformat_minor": 5
}
